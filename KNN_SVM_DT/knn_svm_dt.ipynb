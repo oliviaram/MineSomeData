{
 "cells": [
  {
   "cell_type": "code",
   "execution_count": 1,
   "id": "0ac03564",
   "metadata": {},
   "outputs": [],
   "source": [
    "import pandas as pd\n",
    "import numpy as np\n",
    "import matplotlib.pyplot as plt\n",
    "\n",
    "from sklearn import tree\n",
    "from sklearn.metrics import accuracy_score, precision_score, f1_score\n",
    "from sklearn.model_selection import train_test_split, cross_val_score\n",
    "from sklearn.preprocessing import MinMaxScaler\n",
    "from sklearn.neighbors import KNeighborsClassifier\n",
    "from sklearn.svm import SVC\n",
    "from sklearn.model_selection import KFold\n",
    "\n",
    "import warnings\n",
    "warnings.filterwarnings('ignore')"
   ]
  },
  {
   "cell_type": "markdown",
   "id": "62aa4e31",
   "metadata": {},
   "source": [
    "### Load Train Data"
   ]
  },
  {
   "cell_type": "code",
   "execution_count": 2,
   "id": "aea2f328",
   "metadata": {},
   "outputs": [
    {
     "data": {
      "text/html": [
       "<div>\n",
       "<style scoped>\n",
       "    .dataframe tbody tr th:only-of-type {\n",
       "        vertical-align: middle;\n",
       "    }\n",
       "\n",
       "    .dataframe tbody tr th {\n",
       "        vertical-align: top;\n",
       "    }\n",
       "\n",
       "    .dataframe thead th {\n",
       "        text-align: right;\n",
       "    }\n",
       "</style>\n",
       "<table border=\"1\" class=\"dataframe\">\n",
       "  <thead>\n",
       "    <tr style=\"text-align: right;\">\n",
       "      <th></th>\n",
       "      <th>0</th>\n",
       "      <th>1</th>\n",
       "      <th>2</th>\n",
       "      <th>3</th>\n",
       "    </tr>\n",
       "  </thead>\n",
       "  <tbody>\n",
       "    <tr>\n",
       "      <th>0</th>\n",
       "      <td>40920</td>\n",
       "      <td>8.326976</td>\n",
       "      <td>0.953952</td>\n",
       "      <td>largeDoses</td>\n",
       "    </tr>\n",
       "    <tr>\n",
       "      <th>1</th>\n",
       "      <td>14488</td>\n",
       "      <td>7.153469</td>\n",
       "      <td>1.673904</td>\n",
       "      <td>smallDoses</td>\n",
       "    </tr>\n",
       "    <tr>\n",
       "      <th>2</th>\n",
       "      <td>26052</td>\n",
       "      <td>1.441871</td>\n",
       "      <td>0.805124</td>\n",
       "      <td>didntLike</td>\n",
       "    </tr>\n",
       "  </tbody>\n",
       "</table>\n",
       "</div>"
      ],
      "text/plain": [
       "       0         1         2           3\n",
       "0  40920  8.326976  0.953952  largeDoses\n",
       "1  14488  7.153469  1.673904  smallDoses\n",
       "2  26052  1.441871  0.805124   didntLike"
      ]
     },
     "execution_count": 2,
     "metadata": {},
     "output_type": "execute_result"
    }
   ],
   "source": [
    "df = pd.read_csv('datingData_training.txt', sep='\\s+', header=None)\n",
    "df.head(3)"
   ]
  },
  {
   "cell_type": "code",
   "execution_count": 3,
   "id": "7fec1973",
   "metadata": {},
   "outputs": [
    {
     "data": {
      "text/html": [
       "<div>\n",
       "<style scoped>\n",
       "    .dataframe tbody tr th:only-of-type {\n",
       "        vertical-align: middle;\n",
       "    }\n",
       "\n",
       "    .dataframe tbody tr th {\n",
       "        vertical-align: top;\n",
       "    }\n",
       "\n",
       "    .dataframe thead th {\n",
       "        text-align: right;\n",
       "    }\n",
       "</style>\n",
       "<table border=\"1\" class=\"dataframe\">\n",
       "  <thead>\n",
       "    <tr style=\"text-align: right;\">\n",
       "      <th></th>\n",
       "      <th>fly_miles</th>\n",
       "      <th>video_game</th>\n",
       "      <th>ice_cream</th>\n",
       "      <th>class</th>\n",
       "    </tr>\n",
       "  </thead>\n",
       "  <tbody>\n",
       "    <tr>\n",
       "      <th>0</th>\n",
       "      <td>40920</td>\n",
       "      <td>8.326976</td>\n",
       "      <td>0.953952</td>\n",
       "      <td>largeDoses</td>\n",
       "    </tr>\n",
       "    <tr>\n",
       "      <th>1</th>\n",
       "      <td>14488</td>\n",
       "      <td>7.153469</td>\n",
       "      <td>1.673904</td>\n",
       "      <td>smallDoses</td>\n",
       "    </tr>\n",
       "    <tr>\n",
       "      <th>2</th>\n",
       "      <td>26052</td>\n",
       "      <td>1.441871</td>\n",
       "      <td>0.805124</td>\n",
       "      <td>didntLike</td>\n",
       "    </tr>\n",
       "  </tbody>\n",
       "</table>\n",
       "</div>"
      ],
      "text/plain": [
       "   fly_miles  video_game  ice_cream       class\n",
       "0      40920    8.326976   0.953952  largeDoses\n",
       "1      14488    7.153469   1.673904  smallDoses\n",
       "2      26052    1.441871   0.805124   didntLike"
      ]
     },
     "execution_count": 3,
     "metadata": {},
     "output_type": "execute_result"
    }
   ],
   "source": [
    "df.columns = ['fly_miles', 'video_game', 'ice_cream', 'class']\n",
    "df.head(3)"
   ]
  },
  {
   "cell_type": "code",
   "execution_count": 4,
   "id": "8331586b",
   "metadata": {},
   "outputs": [
    {
     "name": "stdout",
     "output_type": "stream",
     "text": [
      "<class 'pandas.core.frame.DataFrame'>\n",
      "RangeIndex: 600 entries, 0 to 599\n",
      "Data columns (total 4 columns):\n",
      " #   Column      Non-Null Count  Dtype  \n",
      "---  ------      --------------  -----  \n",
      " 0   fly_miles   600 non-null    int64  \n",
      " 1   video_game  600 non-null    float64\n",
      " 2   ice_cream   600 non-null    float64\n",
      " 3   class       600 non-null    object \n",
      "dtypes: float64(2), int64(1), object(1)\n",
      "memory usage: 18.9+ KB\n"
     ]
    }
   ],
   "source": [
    "df.info()"
   ]
  },
  {
   "cell_type": "code",
   "execution_count": 5,
   "id": "7f7bd7f1",
   "metadata": {},
   "outputs": [
    {
     "data": {
      "text/plain": [
       "False"
      ]
     },
     "execution_count": 5,
     "metadata": {},
     "output_type": "execute_result"
    }
   ],
   "source": [
    "df.isnull().values.any()"
   ]
  },
  {
   "cell_type": "code",
   "execution_count": 6,
   "id": "d4931ca9",
   "metadata": {},
   "outputs": [
    {
     "data": {
      "text/plain": [
       "array(['largeDoses', 'smallDoses', 'didntLike'], dtype=object)"
      ]
     },
     "execution_count": 6,
     "metadata": {},
     "output_type": "execute_result"
    }
   ],
   "source": [
    "df['class'].unique()"
   ]
  },
  {
   "cell_type": "code",
   "execution_count": 7,
   "id": "ce2270e8",
   "metadata": {},
   "outputs": [],
   "source": [
    "label = {'largeDoses': 2, 'smallDoses': 1, 'didntLike': 0}\n",
    "df['class'].replace(label, inplace=True)"
   ]
  },
  {
   "cell_type": "code",
   "execution_count": 8,
   "id": "c795d81a",
   "metadata": {},
   "outputs": [
    {
     "data": {
      "text/html": [
       "<div>\n",
       "<style scoped>\n",
       "    .dataframe tbody tr th:only-of-type {\n",
       "        vertical-align: middle;\n",
       "    }\n",
       "\n",
       "    .dataframe tbody tr th {\n",
       "        vertical-align: top;\n",
       "    }\n",
       "\n",
       "    .dataframe thead th {\n",
       "        text-align: right;\n",
       "    }\n",
       "</style>\n",
       "<table border=\"1\" class=\"dataframe\">\n",
       "  <thead>\n",
       "    <tr style=\"text-align: right;\">\n",
       "      <th></th>\n",
       "      <th>fly_miles</th>\n",
       "      <th>video_game</th>\n",
       "      <th>ice_cream</th>\n",
       "      <th>class</th>\n",
       "    </tr>\n",
       "  </thead>\n",
       "  <tbody>\n",
       "    <tr>\n",
       "      <th>0</th>\n",
       "      <td>40920</td>\n",
       "      <td>8.326976</td>\n",
       "      <td>0.953952</td>\n",
       "      <td>2</td>\n",
       "    </tr>\n",
       "    <tr>\n",
       "      <th>1</th>\n",
       "      <td>14488</td>\n",
       "      <td>7.153469</td>\n",
       "      <td>1.673904</td>\n",
       "      <td>1</td>\n",
       "    </tr>\n",
       "    <tr>\n",
       "      <th>2</th>\n",
       "      <td>26052</td>\n",
       "      <td>1.441871</td>\n",
       "      <td>0.805124</td>\n",
       "      <td>0</td>\n",
       "    </tr>\n",
       "  </tbody>\n",
       "</table>\n",
       "</div>"
      ],
      "text/plain": [
       "   fly_miles  video_game  ice_cream  class\n",
       "0      40920    8.326976   0.953952      2\n",
       "1      14488    7.153469   1.673904      1\n",
       "2      26052    1.441871   0.805124      0"
      ]
     },
     "execution_count": 8,
     "metadata": {},
     "output_type": "execute_result"
    }
   ],
   "source": [
    "df.head(3)"
   ]
  },
  {
   "cell_type": "code",
   "execution_count": 9,
   "id": "82cc2023",
   "metadata": {},
   "outputs": [],
   "source": [
    "y_train = df['class']               \n",
    "X_train = df.drop(['class'], axis=1)"
   ]
  },
  {
   "cell_type": "code",
   "execution_count": 10,
   "id": "9ffca59a",
   "metadata": {},
   "outputs": [
    {
     "name": "stdout",
     "output_type": "stream",
     "text": [
      "Training data features: (600, 3) \n",
      "Training data labels: (600,)\n"
     ]
    }
   ],
   "source": [
    "print(f'Training data features: {X_train.shape} \\nTraining data labels: {y_train.shape}')"
   ]
  },
  {
   "cell_type": "markdown",
   "id": "8eb2b590",
   "metadata": {},
   "source": [
    "### Load Test Data"
   ]
  },
  {
   "cell_type": "code",
   "execution_count": 11,
   "id": "1e88c646",
   "metadata": {},
   "outputs": [
    {
     "data": {
      "text/html": [
       "<div>\n",
       "<style scoped>\n",
       "    .dataframe tbody tr th:only-of-type {\n",
       "        vertical-align: middle;\n",
       "    }\n",
       "\n",
       "    .dataframe tbody tr th {\n",
       "        vertical-align: top;\n",
       "    }\n",
       "\n",
       "    .dataframe thead th {\n",
       "        text-align: right;\n",
       "    }\n",
       "</style>\n",
       "<table border=\"1\" class=\"dataframe\">\n",
       "  <thead>\n",
       "    <tr style=\"text-align: right;\">\n",
       "      <th></th>\n",
       "      <th>0</th>\n",
       "      <th>1</th>\n",
       "      <th>2</th>\n",
       "      <th>3</th>\n",
       "    </tr>\n",
       "  </thead>\n",
       "  <tbody>\n",
       "    <tr>\n",
       "      <th>0</th>\n",
       "      <td>9916</td>\n",
       "      <td>2.695935</td>\n",
       "      <td>1.512111</td>\n",
       "      <td>smallDoses</td>\n",
       "    </tr>\n",
       "    <tr>\n",
       "      <th>1</th>\n",
       "      <td>38889</td>\n",
       "      <td>3.356646</td>\n",
       "      <td>0.324230</td>\n",
       "      <td>didntLike</td>\n",
       "    </tr>\n",
       "    <tr>\n",
       "      <th>2</th>\n",
       "      <td>39075</td>\n",
       "      <td>14.677836</td>\n",
       "      <td>0.793183</td>\n",
       "      <td>largeDoses</td>\n",
       "    </tr>\n",
       "  </tbody>\n",
       "</table>\n",
       "</div>"
      ],
      "text/plain": [
       "       0          1         2           3\n",
       "0   9916   2.695935  1.512111  smallDoses\n",
       "1  38889   3.356646  0.324230   didntLike\n",
       "2  39075  14.677836  0.793183  largeDoses"
      ]
     },
     "execution_count": 11,
     "metadata": {},
     "output_type": "execute_result"
    }
   ],
   "source": [
    "df_ = pd.read_csv('datingData_test.txt', sep='\\s+', header=None)\n",
    "df_.head(3)"
   ]
  },
  {
   "cell_type": "code",
   "execution_count": 12,
   "id": "5c44e57e",
   "metadata": {},
   "outputs": [
    {
     "data": {
      "text/html": [
       "<div>\n",
       "<style scoped>\n",
       "    .dataframe tbody tr th:only-of-type {\n",
       "        vertical-align: middle;\n",
       "    }\n",
       "\n",
       "    .dataframe tbody tr th {\n",
       "        vertical-align: top;\n",
       "    }\n",
       "\n",
       "    .dataframe thead th {\n",
       "        text-align: right;\n",
       "    }\n",
       "</style>\n",
       "<table border=\"1\" class=\"dataframe\">\n",
       "  <thead>\n",
       "    <tr style=\"text-align: right;\">\n",
       "      <th></th>\n",
       "      <th>fly_miles</th>\n",
       "      <th>video_game</th>\n",
       "      <th>ice_cream</th>\n",
       "      <th>class</th>\n",
       "    </tr>\n",
       "  </thead>\n",
       "  <tbody>\n",
       "    <tr>\n",
       "      <th>0</th>\n",
       "      <td>9916</td>\n",
       "      <td>2.695935</td>\n",
       "      <td>1.512111</td>\n",
       "      <td>smallDoses</td>\n",
       "    </tr>\n",
       "    <tr>\n",
       "      <th>1</th>\n",
       "      <td>38889</td>\n",
       "      <td>3.356646</td>\n",
       "      <td>0.324230</td>\n",
       "      <td>didntLike</td>\n",
       "    </tr>\n",
       "    <tr>\n",
       "      <th>2</th>\n",
       "      <td>39075</td>\n",
       "      <td>14.677836</td>\n",
       "      <td>0.793183</td>\n",
       "      <td>largeDoses</td>\n",
       "    </tr>\n",
       "  </tbody>\n",
       "</table>\n",
       "</div>"
      ],
      "text/plain": [
       "   fly_miles  video_game  ice_cream       class\n",
       "0       9916    2.695935   1.512111  smallDoses\n",
       "1      38889    3.356646   0.324230   didntLike\n",
       "2      39075   14.677836   0.793183  largeDoses"
      ]
     },
     "execution_count": 12,
     "metadata": {},
     "output_type": "execute_result"
    }
   ],
   "source": [
    "df_.columns = ['fly_miles', 'video_game', 'ice_cream', 'class']\n",
    "df_.head(3)"
   ]
  },
  {
   "cell_type": "code",
   "execution_count": 13,
   "id": "72e18d4e",
   "metadata": {},
   "outputs": [
    {
     "name": "stdout",
     "output_type": "stream",
     "text": [
      "<class 'pandas.core.frame.DataFrame'>\n",
      "RangeIndex: 400 entries, 0 to 399\n",
      "Data columns (total 4 columns):\n",
      " #   Column      Non-Null Count  Dtype  \n",
      "---  ------      --------------  -----  \n",
      " 0   fly_miles   400 non-null    int64  \n",
      " 1   video_game  400 non-null    float64\n",
      " 2   ice_cream   400 non-null    float64\n",
      " 3   class       400 non-null    object \n",
      "dtypes: float64(2), int64(1), object(1)\n",
      "memory usage: 12.6+ KB\n"
     ]
    }
   ],
   "source": [
    "df_.info()"
   ]
  },
  {
   "cell_type": "code",
   "execution_count": 14,
   "id": "a62916f8",
   "metadata": {},
   "outputs": [
    {
     "data": {
      "text/plain": [
       "False"
      ]
     },
     "execution_count": 14,
     "metadata": {},
     "output_type": "execute_result"
    }
   ],
   "source": [
    "df_.isnull().values.any()"
   ]
  },
  {
   "cell_type": "code",
   "execution_count": 15,
   "id": "2948fe69",
   "metadata": {},
   "outputs": [],
   "source": [
    "df_['class'].replace(label, inplace=True)"
   ]
  },
  {
   "cell_type": "code",
   "execution_count": 16,
   "id": "7834e4fe",
   "metadata": {},
   "outputs": [
    {
     "data": {
      "text/html": [
       "<div>\n",
       "<style scoped>\n",
       "    .dataframe tbody tr th:only-of-type {\n",
       "        vertical-align: middle;\n",
       "    }\n",
       "\n",
       "    .dataframe tbody tr th {\n",
       "        vertical-align: top;\n",
       "    }\n",
       "\n",
       "    .dataframe thead th {\n",
       "        text-align: right;\n",
       "    }\n",
       "</style>\n",
       "<table border=\"1\" class=\"dataframe\">\n",
       "  <thead>\n",
       "    <tr style=\"text-align: right;\">\n",
       "      <th></th>\n",
       "      <th>fly_miles</th>\n",
       "      <th>video_game</th>\n",
       "      <th>ice_cream</th>\n",
       "      <th>class</th>\n",
       "    </tr>\n",
       "  </thead>\n",
       "  <tbody>\n",
       "    <tr>\n",
       "      <th>0</th>\n",
       "      <td>9916</td>\n",
       "      <td>2.695935</td>\n",
       "      <td>1.512111</td>\n",
       "      <td>1</td>\n",
       "    </tr>\n",
       "    <tr>\n",
       "      <th>1</th>\n",
       "      <td>38889</td>\n",
       "      <td>3.356646</td>\n",
       "      <td>0.324230</td>\n",
       "      <td>0</td>\n",
       "    </tr>\n",
       "    <tr>\n",
       "      <th>2</th>\n",
       "      <td>39075</td>\n",
       "      <td>14.677836</td>\n",
       "      <td>0.793183</td>\n",
       "      <td>2</td>\n",
       "    </tr>\n",
       "  </tbody>\n",
       "</table>\n",
       "</div>"
      ],
      "text/plain": [
       "   fly_miles  video_game  ice_cream  class\n",
       "0       9916    2.695935   1.512111      1\n",
       "1      38889    3.356646   0.324230      0\n",
       "2      39075   14.677836   0.793183      2"
      ]
     },
     "execution_count": 16,
     "metadata": {},
     "output_type": "execute_result"
    }
   ],
   "source": [
    "df_.head(3)"
   ]
  },
  {
   "cell_type": "code",
   "execution_count": 17,
   "id": "b055fc61",
   "metadata": {},
   "outputs": [],
   "source": [
    "y_test = df_['class']               \n",
    "X_test = df_.drop(['class'], axis=1)"
   ]
  },
  {
   "cell_type": "code",
   "execution_count": 18,
   "id": "c2cd2eaf",
   "metadata": {},
   "outputs": [
    {
     "name": "stdout",
     "output_type": "stream",
     "text": [
      "Testing data features: (400, 3) \n",
      "Testing data labels: (400,)\n"
     ]
    }
   ],
   "source": [
    "print(f'Testing data features: {X_test.shape} \\nTesting data labels: {y_test.shape}')"
   ]
  },
  {
   "cell_type": "markdown",
   "id": "141bb925",
   "metadata": {},
   "source": [
    "# Overview\n",
    "- In each classifier, we will be finding the best hyper-paramaters using simple KFold as the `cv` parameter to evaluate scores by cross-validation \n",
    "- When cross-validating, we only use the **training** data in the training phase\n",
    "- After training the model, we evaluate the model performance on the **testing** set"
   ]
  },
  {
   "cell_type": "code",
   "execution_count": 19,
   "id": "70dc91e7",
   "metadata": {},
   "outputs": [
    {
     "data": {
      "text/plain": [
       "class\n",
       "0    220\n",
       "2    200\n",
       "1    180\n",
       "Name: count, dtype: int64"
      ]
     },
     "execution_count": 19,
     "metadata": {},
     "output_type": "execute_result"
    }
   ],
   "source": [
    "df['class'].value_counts()"
   ]
  },
  {
   "cell_type": "markdown",
   "id": "2b8be053",
   "metadata": {},
   "source": [
    "- We have a nearly equal distribution of classes, so we will use KFold in the cross-validation procedure\n",
    "- In KFold, the training data is divided into k-equal folds; where k-1 fold is used for training and one fold is left out for validation\n",
    "- `cross_val_score` is used to obtain the f-score for each test fold; the varying parameters that achieve the max score is then used for testing the model"
   ]
  },
  {
   "cell_type": "markdown",
   "id": "881c5415",
   "metadata": {},
   "source": [
    "# 1. K-Nearest Neighbours Classifier"
   ]
  },
  {
   "cell_type": "code",
   "execution_count": 20,
   "id": "4fca08e1",
   "metadata": {},
   "outputs": [],
   "source": [
    "# scale the data\n",
    "scaler = MinMaxScaler()\n",
    "X_train_s = scaler.fit_transform(X_train)\n",
    "X_test_s = scaler.transform(X_test)"
   ]
  },
  {
   "cell_type": "code",
   "execution_count": 87,
   "id": "504c90c1",
   "metadata": {},
   "outputs": [],
   "source": [
    "# build and train model with scaled data\n",
    "def knn(n, w):\n",
    "    clf = KNeighborsClassifier(n_neighbors=n, weights=w)\n",
    "    clf.fit(X_train_s, y_train)\n",
    "    y_pred = clf.predict(X_test_s)\n",
    "    \n",
    "    print('Metrics:')\n",
    "    accuracy = accuracy_score(y_test, y_pred)\n",
    "    precision = precision_score(y_test, y_pred, average='weighted')\n",
    "    f_measure = f1_score(y_test, y_pred, average='weighted')\n",
    "    print(f'\\tAccuracy: {accuracy} \\n\\tPrecision: {precision} \\n\\tF-Measure: {f_measure}')\n",
    "    \n",
    "    return accuracy, precision, f_measure"
   ]
  },
  {
   "cell_type": "code",
   "execution_count": 88,
   "id": "5791b9de",
   "metadata": {},
   "outputs": [
    {
     "name": "stdout",
     "output_type": "stream",
     "text": [
      "Metrics:\n",
      "\tAccuracy: 0.9525 \n",
      "\tPrecision: 0.9527608941861719 \n",
      "\tF-Measure: 0.9524102470488013\n"
     ]
    },
    {
     "data": {
      "text/plain": [
       "(0.9525, 0.9527608941861719, 0.9524102470488013)"
      ]
     },
     "execution_count": 88,
     "metadata": {},
     "output_type": "execute_result"
    }
   ],
   "source": [
    "knn(3, 'uniform')"
   ]
  },
  {
   "cell_type": "markdown",
   "id": "ab794986",
   "metadata": {},
   "source": [
    "### Find the best  `n_neighbors` and `weights`:\n",
    "-  Find the best neighbor(s) and compare them to their cross validation score \n",
    "- We are using both 'uniform' and 'distance' weights to describe how each k performs\n",
    "- Uniform weighs each k equally, and distance weighs each k by the inverse of their distance"
   ]
  },
  {
   "cell_type": "code",
   "execution_count": 89,
   "id": "d805491a",
   "metadata": {},
   "outputs": [],
   "source": [
    "score_list1 = []\n",
    "k_list = list(range(1,16))\n",
    "cv = KFold(n_splits=10, random_state=1, shuffle=True)\n",
    "\n",
    "for w in ['uniform', 'distance']:\n",
    "    for k in k_list:\n",
    "        clf = KNeighborsClassifier(n_neighbors=k, weights=w)\n",
    "        score1 = cross_val_score(clf, X_train_s, y_train, cv=cv, scoring='f1_weighted')\n",
    "        score_list1.append([w, k, np.mean(score1)])"
   ]
  },
  {
   "cell_type": "code",
   "execution_count": 90,
   "id": "78c7cb82",
   "metadata": {},
   "outputs": [
    {
     "name": "stdout",
     "output_type": "stream",
     "text": [
      "Optimal parameters: ['distance', 8, 0.9500673781830635]\n"
     ]
    }
   ],
   "source": [
    "#score_list\n",
    "params1 = max(score_list1, key=lambda x: x[2])\n",
    "print(f'Optimal parameters: {params1}')"
   ]
  },
  {
   "cell_type": "code",
   "execution_count": 91,
   "id": "c79c3541",
   "metadata": {},
   "outputs": [],
   "source": [
    "# filter score list\n",
    "uniform = list(filter(lambda x: 'uniform' in x, score_list1))\n",
    "f1 = [x[2] for x in uniform]\n",
    "\n",
    "distance = list(filter(lambda x: 'distance' in x, score_list1))\n",
    "f2 = [x[2] for x in distance]"
   ]
  },
  {
   "cell_type": "code",
   "execution_count": 92,
   "id": "287975f0",
   "metadata": {},
   "outputs": [
    {
     "data": {
      "text/plain": [
       "Text(0.02, 0.5, 'F-Measure')"
      ]
     },
     "execution_count": 92,
     "metadata": {},
     "output_type": "execute_result"
    },
    {
     "data": {
      "image/png": "[encoded data removed]",
      "text/plain": [
       "<Figure size 900x500 with 2 Axes>"
      ]
     },
     "metadata": {},
     "output_type": "display_data"
    }
   ],
   "source": [
    "fig, ax = plt.subplots(nrows=1, ncols=2, figsize=(9, 5))\n",
    "ax[0].plot(k_list, f1, 'o-', color='turquoise')\n",
    "ax[1].plot(k_list, f2, 'o-', color='hotpink')\n",
    " \n",
    "ax[0].set_title('Uniform')\n",
    "ax[1].set_title('Distance')\n",
    "\n",
    "fig.suptitle('Nearest Neighbours (k) vs. Cross-val Score')\n",
    "fig.supxlabel('K', fontsize = 'small')\n",
    "fig.supylabel('F-Measure', fontsize = 'small')"
   ]
  },
  {
   "cell_type": "markdown",
   "id": "37d290ba",
   "metadata": {},
   "source": [
    "**Figure 1.** K-Nearest Neighbours (k: from 1 to 15) and the average f-measure using cross_val_score \n",
    "- As we increase k, f-measure generally increases.\n",
    "- Distance weighting assigns higher weights to closer training examples; it may perform better as it can reduce the influence of outliers."
   ]
  },
  {
   "cell_type": "markdown",
   "id": "f2bc7e5e",
   "metadata": {},
   "source": [
    "### Apply hyper-parameters:"
   ]
  },
  {
   "cell_type": "code",
   "execution_count": 93,
   "id": "bc8aadbb",
   "metadata": {},
   "outputs": [
    {
     "name": "stdout",
     "output_type": "stream",
     "text": [
      "Metrics:\n",
      "\tAccuracy: 0.96 \n",
      "\tPrecision: 0.9600016129032258 \n",
      "\tF-Measure: 0.9599622531939604\n"
     ]
    },
    {
     "data": {
      "text/plain": [
       "(0.96, 0.9600016129032258, 0.9599622531939604)"
      ]
     },
     "execution_count": 93,
     "metadata": {},
     "output_type": "execute_result"
    }
   ],
   "source": [
    "m1 = knn(8, 'distance')\n",
    "m1"
   ]
  },
  {
   "cell_type": "markdown",
   "id": "7a192e2d",
   "metadata": {},
   "source": [
    "# 2. Support Vector Classifier"
   ]
  },
  {
   "cell_type": "code",
   "execution_count": 94,
   "id": "75d6ade6",
   "metadata": {},
   "outputs": [],
   "source": [
    "def svm(c, k):\n",
    "    clf = SVC(C=c, kernel=k)\n",
    "    clf.fit(X_train_s, y_train)\n",
    "    y_pred = clf.predict(X_test_s)\n",
    "    \n",
    "    print('Metrics:')\n",
    "    accuracy = accuracy_score(y_test, y_pred)\n",
    "    precision = precision_score(y_test, y_pred, average='weighted')\n",
    "    f_measure = f1_score(y_test, y_pred, average='weighted')\n",
    "    print(f'\\tAccuracy: {accuracy} \\n\\tPrecision: {precision} \\n\\tF-Measure: {f_measure}')\n",
    "    \n",
    "    return accuracy, precision, f_measure"
   ]
  },
  {
   "cell_type": "code",
   "execution_count": 95,
   "id": "ff9e5668",
   "metadata": {},
   "outputs": [
    {
     "name": "stdout",
     "output_type": "stream",
     "text": [
      "Metrics:\n",
      "\tAccuracy: 0.9125 \n",
      "\tPrecision: 0.913576057789531 \n",
      "\tF-Measure: 0.912040076965672\n"
     ]
    },
    {
     "data": {
      "text/plain": [
       "(0.9125, 0.913576057789531, 0.912040076965672)"
      ]
     },
     "execution_count": 95,
     "metadata": {},
     "output_type": "execute_result"
    }
   ],
   "source": [
    "svm(1, 'linear')"
   ]
  },
  {
   "cell_type": "markdown",
   "id": "fb9e7aed",
   "metadata": {},
   "source": [
    "### Find the best `C` and `kernel`:\n",
    "- To find the best C with varying kernel types, we will be using a similar strategy as above with knn"
   ]
  },
  {
   "cell_type": "code",
   "execution_count": 96,
   "id": "dfde86da",
   "metadata": {},
   "outputs": [],
   "source": [
    "score_list2 = []\n",
    "C_list = [0.01, 0.1, 0.2, 0.5, 0.8, 1, 5, 10, 20, 50]\n",
    "kernels = ['linear', 'poly', 'rbf', 'sigmoid']\n",
    "cv = KFold(n_splits=10, random_state=1, shuffle=True)\n",
    "#cv=10\n",
    "for popcorn in kernels:\n",
    "    for c in C_list:\n",
    "        clf = SVC(C=c, kernel=popcorn)\n",
    "        score2 = cross_val_score(clf, X_train_s, y_train, cv=cv, scoring='f1_weighted')\n",
    "        score_list2.append([popcorn, c, np.mean(score2)])"
   ]
  },
  {
   "cell_type": "code",
   "execution_count": 97,
   "id": "3a13dc05",
   "metadata": {},
   "outputs": [
    {
     "name": "stdout",
     "output_type": "stream",
     "text": [
      "Optimal parameters: ['rbf', 0.8, 0.9549000943585421]\n"
     ]
    }
   ],
   "source": [
    "#score_list\n",
    "params2 = max(score_list2, key=lambda x: x[2])\n",
    "print(f'Optimal parameters: {params2}')"
   ]
  },
  {
   "cell_type": "code",
   "execution_count": 98,
   "id": "f8f5cf95",
   "metadata": {},
   "outputs": [],
   "source": [
    "lin = list(filter(lambda x: 'linear' in x, score_list2))\n",
    "f1 = [x[2] for x in lin]\n",
    "\n",
    "poly = list(filter(lambda x: 'poly' in x, score_list2))\n",
    "f2 = [x[2] for x in poly]\n",
    "\n",
    "rbf = list(filter(lambda x: 'rbf' in x, score_list2))\n",
    "f3 = [x[2] for x in rbf]\n",
    "\n",
    "sig = list(filter(lambda x: 'sigmoid' in x, score_list2))\n",
    "f4 = [x[2] for x in sig]"
   ]
  },
  {
   "cell_type": "code",
   "execution_count": 99,
   "id": "505afe86",
   "metadata": {},
   "outputs": [
    {
     "data": {
      "text/plain": [
       "Text(0.02, 0.5, 'F-Measure')"
      ]
     },
     "execution_count": 99,
     "metadata": {},
     "output_type": "execute_result"
    },
    {
     "data": {
      "image/png": "[encoded data removed]",
      "text/plain": [
       "<Figure size 1000x700 with 4 Axes>"
      ]
     },
     "metadata": {},
     "output_type": "display_data"
    }
   ],
   "source": [
    "fig, ax = plt.subplots(nrows=2, ncols=2, figsize=(10, 7))\n",
    "\n",
    "ax[0,0].plot(C_list, f1, 'o-', color='turquoise')\n",
    "ax[0,0].set_title('Linear')\n",
    "\n",
    "ax[1,0].plot(C_list, f2, 'o-', color='lawngreen')\n",
    "ax[1,0].set_title('Poly')\n",
    "\n",
    "ax[0,1].plot(C_list, f3, 'o-', color='hotpink')\n",
    "ax[0,1].set_title('RBF')\n",
    "\n",
    "ax[1,1].plot(C_list, f4, 'o-', color='violet')\n",
    "ax[1,1].set_title('Sigmoid')\n",
    "\n",
    "fig.suptitle('Regularization parameter (C) vs. Cross-val Score')\n",
    "fig.supxlabel('C', fontsize = 'medium')\n",
    "fig.supylabel('F-Measure', fontsize = 'medium')"
   ]
  },
  {
   "cell_type": "markdown",
   "id": "4a40d5bc",
   "metadata": {},
   "source": [
    "**Figure 2.** SVM with varying C and the average f-measure using cross_val_score \n",
    "- The 'rbf' kernel performs best; this may imply that the decision boundaries between the classes are non-linear.\n",
    "- Smaller C has larger margin of the hyperplane with more tolerance of error and yields the highest f-measure."
   ]
  },
  {
   "cell_type": "markdown",
   "id": "4253e201",
   "metadata": {},
   "source": [
    "### Apply hyper-parameters:"
   ]
  },
  {
   "cell_type": "code",
   "execution_count": 100,
   "id": "281d1674",
   "metadata": {},
   "outputs": [
    {
     "name": "stdout",
     "output_type": "stream",
     "text": [
      "Metrics:\n",
      "\tAccuracy: 0.95 \n",
      "\tPrecision: 0.9506872258771929 \n",
      "\tF-Measure: 0.9499340030197351\n"
     ]
    },
    {
     "data": {
      "text/plain": [
       "(0.95, 0.9506872258771929, 0.9499340030197351)"
      ]
     },
     "execution_count": 100,
     "metadata": {},
     "output_type": "execute_result"
    }
   ],
   "source": [
    "m2 = svm(0.8, 'rbf')\n",
    "m2"
   ]
  },
  {
   "cell_type": "markdown",
   "id": "a5476125",
   "metadata": {},
   "source": [
    "# 3. Decision Tree Classifier"
   ]
  },
  {
   "cell_type": "code",
   "execution_count": 101,
   "id": "bcd41010",
   "metadata": {},
   "outputs": [],
   "source": [
    "def decisionTree(depth, criteria):\n",
    "    clf = tree.DecisionTreeClassifier(max_depth=depth, criterion=criteria)\n",
    "    clf.fit(X_train_s, y_train)\n",
    "    y_pred = clf.predict(X_test_s)\n",
    "    \n",
    "    print('Metrics:')\n",
    "    accuracy = accuracy_score(y_test, y_pred)\n",
    "    precision = precision_score(y_test, y_pred, average='weighted')\n",
    "    f_measure = f1_score(y_test, y_pred, average='weighted')\n",
    "    print(f'\\tAccuracy: {accuracy} \\n\\tPrecision: {precision} \\n\\tF-Measure: {f_measure}')\n",
    "    \n",
    "    return accuracy, precision, f_measure"
   ]
  },
  {
   "cell_type": "code",
   "execution_count": 102,
   "id": "5a72ae60",
   "metadata": {},
   "outputs": [
    {
     "name": "stdout",
     "output_type": "stream",
     "text": [
      "Metrics:\n",
      "\tAccuracy: 0.95 \n",
      "\tPrecision: 0.9511670128706419 \n",
      "\tF-Measure: 0.9498819902559785\n"
     ]
    },
    {
     "data": {
      "text/plain": [
       "(0.95, 0.9511670128706419, 0.9498819902559785)"
      ]
     },
     "execution_count": 102,
     "metadata": {},
     "output_type": "execute_result"
    }
   ],
   "source": [
    "decisionTree(3, 'gini')"
   ]
  },
  {
   "cell_type": "markdown",
   "id": "fbebdf3c",
   "metadata": {},
   "source": [
    "### Find the best `max_depth` and `criterion`:\n",
    "- Looking for the best max depth using both 'gini' and 'entropy' as criteria"
   ]
  },
  {
   "cell_type": "code",
   "execution_count": 103,
   "id": "40244fcb",
   "metadata": {},
   "outputs": [],
   "source": [
    "score_list3 = []\n",
    "maxdepths = [2,3,4,5,6,7,8,9,10,15,20,25,30,35,40,45,50]\n",
    "cv = KFold(n_splits=10, random_state=1, shuffle=True)\n",
    "\n",
    "for criteria in ['gini', 'entropy']:\n",
    "    for depth in maxdepths:\n",
    "        clf = tree.DecisionTreeClassifier(max_depth=depth, criterion=criteria)\n",
    "        score3 = cross_val_score(clf, X_train_s, y_train, cv=cv, scoring='f1_weighted')\n",
    "        score_list3.append([criteria, depth, np.mean(score3)])"
   ]
  },
  {
   "cell_type": "code",
   "execution_count": 104,
   "id": "7bf4bbec",
   "metadata": {},
   "outputs": [
    {
     "name": "stdout",
     "output_type": "stream",
     "text": [
      "Optimal parameters: ['entropy', 4, 0.9533367184625121]\n"
     ]
    }
   ],
   "source": [
    "#score_list\n",
    "params3 = max(score_list3, key=lambda x: x[2])\n",
    "print(f'Optimal parameters: {params3}')"
   ]
  },
  {
   "cell_type": "code",
   "execution_count": 105,
   "id": "95ca822b",
   "metadata": {},
   "outputs": [],
   "source": [
    "gini = list(filter(lambda x: 'gini' in x, score_list3))\n",
    "f1 = [x[2] for x in gini]\n",
    "\n",
    "entropy = list(filter(lambda x: 'entropy' in x, score_list3))\n",
    "f2 = [x[2] for x in entropy]"
   ]
  },
  {
   "cell_type": "code",
   "execution_count": 106,
   "id": "41778500",
   "metadata": {},
   "outputs": [
    {
     "data": {
      "text/plain": [
       "Text(0.02, 0.5, 'F-Measure')"
      ]
     },
     "execution_count": 106,
     "metadata": {},
     "output_type": "execute_result"
    },
    {
     "data": {
      "image/png": "[encoded data removed]",
      "text/plain": [
       "<Figure size 900x500 with 2 Axes>"
      ]
     },
     "metadata": {},
     "output_type": "display_data"
    }
   ],
   "source": [
    "fig, ax = plt.subplots(nrows=1, ncols=2, figsize=(9, 5))\n",
    "ax[0].plot(maxdepths, f1, 'o-', color='turquoise')\n",
    "ax[1].plot(maxdepths, f2, 'o-', color='hotpink')\n",
    " \n",
    "ax[0].set_title('Gini')\n",
    "ax[1].set_title('Entropy')\n",
    "\n",
    "fig.suptitle('Max Tree Depth vs. Cross-val Score')\n",
    "fig.supxlabel('Tree Depth', fontsize = 'small')\n",
    "fig.supylabel('F-Measure', fontsize = 'small')"
   ]
  },
  {
   "cell_type": "markdown",
   "id": "c79bc8ac",
   "metadata": {},
   "source": [
    "**Figure 3.** Decision Tree with varying tree depth and the average f-measure using cross_val_score \n",
    "- Gini and Entropy follow the same pattern of decreasing f-measure with increasing tree depth; however, Entropy produces a slightly higher average f-measure."
   ]
  },
  {
   "cell_type": "markdown",
   "id": "8f899454",
   "metadata": {},
   "source": [
    "### Apply hyper-parameters:"
   ]
  },
  {
   "cell_type": "code",
   "execution_count": 107,
   "id": "5f02f266",
   "metadata": {},
   "outputs": [
    {
     "name": "stdout",
     "output_type": "stream",
     "text": [
      "Metrics:\n",
      "\tAccuracy: 0.975 \n",
      "\tPrecision: 0.9753295001291042 \n",
      "\tF-Measure: 0.9749774564110427\n"
     ]
    },
    {
     "data": {
      "text/plain": [
       "(0.975, 0.9753295001291042, 0.9749774564110427)"
      ]
     },
     "execution_count": 107,
     "metadata": {},
     "output_type": "execute_result"
    }
   ],
   "source": [
    "m3 = decisionTree(4, 'entropy')\n",
    "m3"
   ]
  },
  {
   "cell_type": "markdown",
   "id": "420a781d",
   "metadata": {},
   "source": [
    "# Conclusions"
   ]
  },
  {
   "cell_type": "code",
   "execution_count": 108,
   "id": "9c107f02",
   "metadata": {},
   "outputs": [
    {
     "name": "stdout",
     "output_type": "stream",
     "text": [
      "1. K-NN after optimization:\n",
      "\n",
      "\tAccuracy: 0.96 \n",
      "\tPrecision: 0.9600016129032258 \n",
      "\tF-Measure: 0.9599622531939604\n",
      "\n",
      "\tHyper-parameters = ['distance', 8, 0.9500673781830635]\n",
      "\n",
      "2. SVM after optimization:\n",
      "\n",
      "\tAccuracy: 0.95 \n",
      "\tPrecision: 0.9506872258771929 \n",
      "\tF-Measure: 0.9499340030197351\n",
      "\n",
      "\tHyper-parameters = ['rbf', 0.8, 0.9549000943585421]\n",
      "\n",
      "3. Decision Tree after optimization:\n",
      "\n",
      "\tAccuracy: 0.975 \n",
      "\tPrecision: 0.9753295001291042 \n",
      "\tF-Measure: 0.9749774564110427\n",
      "\n",
      "\tHyper-parameters = ['entropy', 4, 0.9533367184625121]\n"
     ]
    }
   ],
   "source": [
    "print('1. K-NN after optimization:')\n",
    "print(f'\\n\\tAccuracy: {m1[0]} \\n\\tPrecision: {m1[1]} \\n\\tF-Measure: {m1[2]}')\n",
    "print(f'\\n\\tHyper-parameters = {params1}')\n",
    "\n",
    "print('\\n2. SVM after optimization:')\n",
    "print(f'\\n\\tAccuracy: {m2[0]} \\n\\tPrecision: {m2[1]} \\n\\tF-Measure: {m2[2]}')\n",
    "print(f'\\n\\tHyper-parameters = {params2}')\n",
    "\n",
    "print('\\n3. Decision Tree after optimization:')\n",
    "print(f'\\n\\tAccuracy: {m3[0]} \\n\\tPrecision: {m3[1]} \\n\\tF-Measure: {m3[2]}')\n",
    "print(f'\\n\\tHyper-parameters = {params3}')"
   ]
  },
  {
   "cell_type": "markdown",
   "id": "9cc30e9d",
   "metadata": {},
   "source": [
    "Feature scaling was used for each model: \n",
    "- k-NN and SVM requires this so that features with significant magnitude do not dominate other attributes\n",
    "- DecisionTree does not require this, however, consistency matters\n",
    "\n",
    "The best model for classification using the optimal hyper-parameters is the **Decision Tree**, then K-NN and SVM (in descending order). In Decision Tree, we ran cross-validation on the f-measure metric with varying impurity (i.e., gini, entropy) and tree depth. In both measures of impurity, we can see that an increased tree depth decreases the f-measure. After tuning the hyper-parameters, the optimal parameters are `max_depth=4` and `criterion='entropy'`\n",
    "\n",
    "In all three models, the results of the hyper-parameter tuning showed an increase in all tested metrics: accuracy, precision, and f-measure."
   ]
  }
 ],
 "metadata": {
  "kernelspec": {
   "display_name": "Python 3 (ipykernel)",
   "language": "python",
   "name": "python3"
  },
  "language_info": {
   "codemirror_mode": {
    "name": "ipython",
    "version": 3
   },
   "file_extension": ".py",
   "mimetype": "text/x-python",
   "name": "python",
   "nbconvert_exporter": "python",
   "pygments_lexer": "ipython3",
   "version": "3.11.4"
  }
 },
 "nbformat": 4,
 "nbformat_minor": 5
}
